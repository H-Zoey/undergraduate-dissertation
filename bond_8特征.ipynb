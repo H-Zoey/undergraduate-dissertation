{
 "cells": [
  {
   "cell_type": "code",
   "execution_count": 3,
   "metadata": {},
   "outputs": [],
   "source": [
    "import pandas as pd\n",
    "import numpy as np\n",
    "import matplotlib.pyplot as plt\n",
    "\n",
    "from sklearn import linear_model, decomposition\n",
    "from sklearn.metrics import accuracy_score, confusion_matrix, roc_curve, roc_auc_score\n",
    "from sklearn.tree import DecisionTreeClassifier\n",
    "from xgboost import XGBClassifier as xgc\n",
    "from sklearn.model_selection import train_test_split, GridSearchCV\n",
    "import xgboost as xgb"
   ]
  },
  {
   "cell_type": "markdown",
   "metadata": {},
   "source": [
    "# 数据准备"
   ]
  },
  {
   "cell_type": "code",
   "execution_count": 4,
   "metadata": {},
   "outputs": [],
   "source": [
    "df = pd.read_csv('bonddata_8feature.csv')\n",
    "# df"
   ]
  },
  {
   "cell_type": "code",
   "execution_count": 5,
   "metadata": {},
   "outputs": [
    {
     "data": {
      "text/html": [
       "<div>\n",
       "<style scoped>\n",
       "    .dataframe tbody tr th:only-of-type {\n",
       "        vertical-align: middle;\n",
       "    }\n",
       "\n",
       "    .dataframe tbody tr th {\n",
       "        vertical-align: top;\n",
       "    }\n",
       "\n",
       "    .dataframe thead th {\n",
       "        text-align: right;\n",
       "    }\n",
       "</style>\n",
       "<table border=\"1\" class=\"dataframe\">\n",
       "  <thead>\n",
       "    <tr style=\"text-align: right;\">\n",
       "      <th></th>\n",
       "      <th>Liscd</th>\n",
       "      <th>Accper</th>\n",
       "      <th>Default</th>\n",
       "      <th>Current Ratio</th>\n",
       "      <th>Debt-to-Long Capital Ratio</th>\n",
       "      <th>Total Assets Turnover</th>\n",
       "      <th>Fixed Assets Turnover</th>\n",
       "      <th>Rate of Return on Total Assets</th>\n",
       "      <th>EPS</th>\n",
       "      <th>Debt to Asset Ratio</th>\n",
       "      <th>Equity Ratio</th>\n",
       "    </tr>\n",
       "  </thead>\n",
       "  <tbody>\n",
       "    <tr>\n",
       "      <th>34</th>\n",
       "      <td>110017</td>\n",
       "      <td>30/6/2017</td>\n",
       "      <td>0</td>\n",
       "      <td>1.186464</td>\n",
       "      <td>0.479689</td>\n",
       "      <td>0.083304</td>\n",
       "      <td>0.134980</td>\n",
       "      <td>0.017112</td>\n",
       "      <td>0.21</td>\n",
       "      <td>0.548178</td>\n",
       "      <td>0.451822</td>\n",
       "    </tr>\n",
       "    <tr>\n",
       "      <th>35</th>\n",
       "      <td>110018</td>\n",
       "      <td>30/6/2017</td>\n",
       "      <td>0</td>\n",
       "      <td>0.240056</td>\n",
       "      <td>0.615835</td>\n",
       "      <td>0.104523</td>\n",
       "      <td>0.149708</td>\n",
       "      <td>0.010165</td>\n",
       "      <td>0.09</td>\n",
       "      <td>0.734545</td>\n",
       "      <td>0.265404</td>\n",
       "    </tr>\n",
       "    <tr>\n",
       "      <th>36</th>\n",
       "      <td>110020</td>\n",
       "      <td>30/6/2017</td>\n",
       "      <td>0</td>\n",
       "      <td>1.623174</td>\n",
       "      <td>0.066159</td>\n",
       "      <td>0.170575</td>\n",
       "      <td>0.308543</td>\n",
       "      <td>0.021448</td>\n",
       "      <td>0.08</td>\n",
       "      <td>0.236495</td>\n",
       "      <td>0.763505</td>\n",
       "    </tr>\n",
       "    <tr>\n",
       "      <th>37</th>\n",
       "      <td>110020</td>\n",
       "      <td>31/12/2017</td>\n",
       "      <td>0</td>\n",
       "      <td>2.008228</td>\n",
       "      <td>0.099393</td>\n",
       "      <td>0.370714</td>\n",
       "      <td>0.657101</td>\n",
       "      <td>0.049055</td>\n",
       "      <td>0.17</td>\n",
       "      <td>0.247186</td>\n",
       "      <td>0.752814</td>\n",
       "    </tr>\n",
       "    <tr>\n",
       "      <th>38</th>\n",
       "      <td>110022</td>\n",
       "      <td>30/6/2017</td>\n",
       "      <td>0</td>\n",
       "      <td>2.978457</td>\n",
       "      <td>0.079166</td>\n",
       "      <td>0.378506</td>\n",
       "      <td>3.802738</td>\n",
       "      <td>0.067676</td>\n",
       "      <td>0.44</td>\n",
       "      <td>0.324041</td>\n",
       "      <td>0.675959</td>\n",
       "    </tr>\n",
       "    <tr>\n",
       "      <th>...</th>\n",
       "      <td>...</td>\n",
       "      <td>...</td>\n",
       "      <td>...</td>\n",
       "      <td>...</td>\n",
       "      <td>...</td>\n",
       "      <td>...</td>\n",
       "      <td>...</td>\n",
       "      <td>...</td>\n",
       "      <td>...</td>\n",
       "      <td>...</td>\n",
       "      <td>...</td>\n",
       "    </tr>\n",
       "    <tr>\n",
       "      <th>84243</th>\n",
       "      <td>197711</td>\n",
       "      <td>31/12/2021</td>\n",
       "      <td>0</td>\n",
       "      <td>2.501382</td>\n",
       "      <td>0.463034</td>\n",
       "      <td>0.059165</td>\n",
       "      <td>1.082079</td>\n",
       "      <td>0.007436</td>\n",
       "      <td>1.38</td>\n",
       "      <td>0.648554</td>\n",
       "      <td>0.351446</td>\n",
       "    </tr>\n",
       "    <tr>\n",
       "      <th>84258</th>\n",
       "      <td>197743</td>\n",
       "      <td>31/12/2021</td>\n",
       "      <td>0</td>\n",
       "      <td>2.501382</td>\n",
       "      <td>0.463034</td>\n",
       "      <td>0.059165</td>\n",
       "      <td>1.082079</td>\n",
       "      <td>0.007436</td>\n",
       "      <td>1.38</td>\n",
       "      <td>0.648554</td>\n",
       "      <td>0.351446</td>\n",
       "    </tr>\n",
       "    <tr>\n",
       "      <th>84309</th>\n",
       "      <td>197858</td>\n",
       "      <td>31/12/2021</td>\n",
       "      <td>0</td>\n",
       "      <td>2.501382</td>\n",
       "      <td>0.463034</td>\n",
       "      <td>0.059165</td>\n",
       "      <td>1.082079</td>\n",
       "      <td>0.007436</td>\n",
       "      <td>1.38</td>\n",
       "      <td>0.648554</td>\n",
       "      <td>0.351446</td>\n",
       "    </tr>\n",
       "    <tr>\n",
       "      <th>84311</th>\n",
       "      <td>197860</td>\n",
       "      <td>31/12/2021</td>\n",
       "      <td>0</td>\n",
       "      <td>1.459908</td>\n",
       "      <td>0.570691</td>\n",
       "      <td>0.093663</td>\n",
       "      <td>2.627991</td>\n",
       "      <td>0.008118</td>\n",
       "      <td>0.10</td>\n",
       "      <td>0.697334</td>\n",
       "      <td>0.302666</td>\n",
       "    </tr>\n",
       "    <tr>\n",
       "      <th>84341</th>\n",
       "      <td>197945</td>\n",
       "      <td>31/12/2021</td>\n",
       "      <td>0</td>\n",
       "      <td>1.536447</td>\n",
       "      <td>0.183980</td>\n",
       "      <td>0.072255</td>\n",
       "      <td>6.304287</td>\n",
       "      <td>0.020219</td>\n",
       "      <td>0.18</td>\n",
       "      <td>0.642993</td>\n",
       "      <td>0.357007</td>\n",
       "    </tr>\n",
       "  </tbody>\n",
       "</table>\n",
       "<p>8629 rows × 11 columns</p>\n",
       "</div>"
      ],
      "text/plain": [
       "        Liscd      Accper  Default  Current Ratio  Debt-to-Long Capital Ratio  \\\n",
       "34     110017   30/6/2017        0       1.186464                    0.479689   \n",
       "35     110018   30/6/2017        0       0.240056                    0.615835   \n",
       "36     110020   30/6/2017        0       1.623174                    0.066159   \n",
       "37     110020  31/12/2017        0       2.008228                    0.099393   \n",
       "38     110022   30/6/2017        0       2.978457                    0.079166   \n",
       "...       ...         ...      ...            ...                         ...   \n",
       "84243  197711  31/12/2021        0       2.501382                    0.463034   \n",
       "84258  197743  31/12/2021        0       2.501382                    0.463034   \n",
       "84309  197858  31/12/2021        0       2.501382                    0.463034   \n",
       "84311  197860  31/12/2021        0       1.459908                    0.570691   \n",
       "84341  197945  31/12/2021        0       1.536447                    0.183980   \n",
       "\n",
       "       Total Assets Turnover  Fixed Assets Turnover  \\\n",
       "34                  0.083304               0.134980   \n",
       "35                  0.104523               0.149708   \n",
       "36                  0.170575               0.308543   \n",
       "37                  0.370714               0.657101   \n",
       "38                  0.378506               3.802738   \n",
       "...                      ...                    ...   \n",
       "84243               0.059165               1.082079   \n",
       "84258               0.059165               1.082079   \n",
       "84309               0.059165               1.082079   \n",
       "84311               0.093663               2.627991   \n",
       "84341               0.072255               6.304287   \n",
       "\n",
       "       Rate of Return on Total Assets   EPS  Debt to Asset Ratio  Equity Ratio  \n",
       "34                           0.017112  0.21             0.548178      0.451822  \n",
       "35                           0.010165  0.09             0.734545      0.265404  \n",
       "36                           0.021448  0.08             0.236495      0.763505  \n",
       "37                           0.049055  0.17             0.247186      0.752814  \n",
       "38                           0.067676  0.44             0.324041      0.675959  \n",
       "...                               ...   ...                  ...           ...  \n",
       "84243                        0.007436  1.38             0.648554      0.351446  \n",
       "84258                        0.007436  1.38             0.648554      0.351446  \n",
       "84309                        0.007436  1.38             0.648554      0.351446  \n",
       "84311                        0.008118  0.10             0.697334      0.302666  \n",
       "84341                        0.020219  0.18             0.642993      0.357007  \n",
       "\n",
       "[8629 rows x 11 columns]"
      ]
     },
     "execution_count": 5,
     "metadata": {},
     "output_type": "execute_result"
    }
   ],
   "source": [
    "df_nan = df.dropna(axis = 0,how = 'any')\n",
    "df_nan"
   ]
  },
  {
   "cell_type": "code",
   "execution_count": 6,
   "metadata": {},
   "outputs": [
    {
     "data": {
      "text/plain": [
       "0    8074\n",
       "1     555\n",
       "Name: Default, dtype: int64"
      ]
     },
     "execution_count": 6,
     "metadata": {},
     "output_type": "execute_result"
    }
   ],
   "source": [
    "df2 = df_nan.sort_values(by = 'Accper',ascending = True)\n",
    "df2['Default'].value_counts()"
   ]
  },
  {
   "cell_type": "code",
   "execution_count": 9,
   "metadata": {},
   "outputs": [
    {
     "name": "stdout",
     "output_type": "stream",
     "text": [
      "X_train.shape: (6903, 8)\n",
      "X_tset.shape: (1726, 8)\n",
      "y_train.shape: (6903,)\n",
      "y_test.shape: (1726,)\n"
     ]
    }
   ],
   "source": [
    "X = df2.drop(columns = ['Default','Liscd','Accper'])\n",
    "y = df2['Default']\n",
    "\n",
    "X_train,X_test,y_train,y_test = train_test_split(X,y,test_size = 0.2,shuffle = False) \n",
    "\n",
    "print('X_train.shape:', X_train.shape)\n",
    "print('X_tset.shape:', X_test.shape)\n",
    "print('y_train.shape:', y_train.shape)\n",
    "print('y_test.shape:', y_test.shape)"
   ]
  },
  {
   "cell_type": "markdown",
   "metadata": {},
   "source": [
    "# 线性回归"
   ]
  },
  {
   "cell_type": "code",
   "execution_count": 13,
   "metadata": {},
   "outputs": [],
   "source": [
    "model_LR = linear_model.LinearRegression()\n",
    "model_LR.fit(X_train,y_train)\n",
    "\n",
    "y_pred_LR = model_LR.predict(X_test)\n",
    "y_pred_LR = y_pred_LR.astype(np.int64)"
   ]
  },
  {
   "cell_type": "code",
   "execution_count": 12,
   "metadata": {},
   "outputs": [
    {
     "name": "stdout",
     "output_type": "stream",
     "text": [
      "0.9507531865585168\n"
     ]
    }
   ],
   "source": [
    "score_re = accuracy_score(y_pred_LR,y_test)\n",
    "print(score_re)"
   ]
  },
  {
   "cell_type": "markdown",
   "metadata": {},
   "source": [
    "# 决策树模型"
   ]
  },
  {
   "cell_type": "code",
   "execution_count": 14,
   "metadata": {},
   "outputs": [
    {
     "name": "stdout",
     "output_type": "stream",
     "text": [
      "score_DecisionTreeClassifier: 0.9449594438006953\n"
     ]
    }
   ],
   "source": [
    "model_DT = DecisionTreeClassifier(max_depth = 5)\n",
    "model_DT.fit(X_train,y_train)\n",
    "\n",
    "y_pred_DT = model_DT.predict(X_test)\n",
    "score_DT = accuracy_score(y_pred_DT,y_test)\n",
    "print('score_DecisionTreeClassifier:',score_DT)"
   ]
  },
  {
   "cell_type": "code",
   "execution_count": 15,
   "metadata": {},
   "outputs": [
    {
     "data": {
      "text/html": [
       "<div>\n",
       "<style scoped>\n",
       "    .dataframe tbody tr th:only-of-type {\n",
       "        vertical-align: middle;\n",
       "    }\n",
       "\n",
       "    .dataframe tbody tr th {\n",
       "        vertical-align: top;\n",
       "    }\n",
       "\n",
       "    .dataframe thead th {\n",
       "        text-align: right;\n",
       "    }\n",
       "</style>\n",
       "<table border=\"1\" class=\"dataframe\">\n",
       "  <thead>\n",
       "    <tr style=\"text-align: right;\">\n",
       "      <th></th>\n",
       "      <th>特征名称</th>\n",
       "      <th>特征重要性</th>\n",
       "    </tr>\n",
       "  </thead>\n",
       "  <tbody>\n",
       "    <tr>\n",
       "      <th>4</th>\n",
       "      <td>Rate of Return on Total Assets</td>\n",
       "      <td>0.300456</td>\n",
       "    </tr>\n",
       "    <tr>\n",
       "      <th>2</th>\n",
       "      <td>Total Assets Turnover</td>\n",
       "      <td>0.207932</td>\n",
       "    </tr>\n",
       "    <tr>\n",
       "      <th>3</th>\n",
       "      <td>Fixed Assets Turnover</td>\n",
       "      <td>0.127487</td>\n",
       "    </tr>\n",
       "    <tr>\n",
       "      <th>6</th>\n",
       "      <td>Debt to Asset Ratio</td>\n",
       "      <td>0.089590</td>\n",
       "    </tr>\n",
       "    <tr>\n",
       "      <th>7</th>\n",
       "      <td>Equity Ratio</td>\n",
       "      <td>0.087424</td>\n",
       "    </tr>\n",
       "    <tr>\n",
       "      <th>5</th>\n",
       "      <td>EPS</td>\n",
       "      <td>0.076156</td>\n",
       "    </tr>\n",
       "    <tr>\n",
       "      <th>0</th>\n",
       "      <td>Current Ratio</td>\n",
       "      <td>0.062875</td>\n",
       "    </tr>\n",
       "    <tr>\n",
       "      <th>1</th>\n",
       "      <td>Debt-to-Long Capital Ratio</td>\n",
       "      <td>0.048080</td>\n",
       "    </tr>\n",
       "  </tbody>\n",
       "</table>\n",
       "</div>"
      ],
      "text/plain": [
       "                             特征名称     特征重要性\n",
       "4  Rate of Return on Total Assets  0.300456\n",
       "2           Total Assets Turnover  0.207932\n",
       "3           Fixed Assets Turnover  0.127487\n",
       "6             Debt to Asset Ratio  0.089590\n",
       "7                    Equity Ratio  0.087424\n",
       "5                             EPS  0.076156\n",
       "0                   Current Ratio  0.062875\n",
       "1      Debt-to-Long Capital Ratio  0.048080"
      ]
     },
     "execution_count": 15,
     "metadata": {},
     "output_type": "execute_result"
    }
   ],
   "source": [
    "features_DT = X_train.columns \n",
    "importances_DT = model_DT.feature_importances_ \n",
    "importances_dt_df = pd.DataFrame()\n",
    "importances_dt_df['特征名称'] = features_DT\n",
    "importances_dt_df['特征重要性'] = importances_DT\n",
    "importances_dt_df.sort_values('特征重要性',ascending = False)"
   ]
  },
  {
   "cell_type": "markdown",
   "metadata": {},
   "source": [
    "# 主成分分析"
   ]
  },
  {
   "cell_type": "code",
   "execution_count": 16,
   "metadata": {},
   "outputs": [],
   "source": [
    "pca = decomposition.PCA(n_components = 'mle')\n",
    "pca.fit(X_train)\n",
    "\n",
    "X_mle = pca.transform(X_train)\n",
    "# X_re_mle"
   ]
  },
  {
   "cell_type": "code",
   "execution_count": 17,
   "metadata": {},
   "outputs": [],
   "source": [
    "# pca.explained_variance_"
   ]
  },
  {
   "cell_type": "code",
   "execution_count": 18,
   "metadata": {},
   "outputs": [
    {
     "data": {
      "text/plain": [
       "1.0"
      ]
     },
     "execution_count": 18,
     "metadata": {},
     "output_type": "execute_result"
    }
   ],
   "source": [
    "pca.explained_variance_ratio_.sum()"
   ]
  },
  {
   "cell_type": "markdown",
   "metadata": {},
   "source": [
    "# XGboost模型"
   ]
  },
  {
   "cell_type": "code",
   "execution_count": 19,
   "metadata": {},
   "outputs": [
    {
     "data": {
      "text/plain": [
       "XGBClassifier(base_score=0.5, booster='gbtree', colsample_bylevel=1,\n",
       "              colsample_bynode=1, colsample_bytree=1, enable_categorical=False,\n",
       "              eval_metric=['logloss', 'auc', 'error'], gamma=0, gpu_id=-1,\n",
       "              importance_type=None, interaction_constraints='',\n",
       "              learning_rate=0.300000012, max_delta_step=0, max_depth=6,\n",
       "              min_child_weight=1, missing=nan, monotone_constraints='()',\n",
       "              n_estimators=100, n_jobs=4, num_parallel_tree=1, predictor='auto',\n",
       "              random_state=0, reg_alpha=0, reg_lambda=1, scale_pos_weight=1,\n",
       "              subsample=1, tree_method='exact', use_label_encoder=False,\n",
       "              validate_parameters=1, verbosity=None)"
      ]
     },
     "execution_count": 19,
     "metadata": {},
     "output_type": "execute_result"
    }
   ],
   "source": [
    "model_XGB = xgb.XGBClassifier(eval_metric=['logloss','auc','error'], use_label_encoder=False)\n",
    "model_XGB.fit(X_train,y_train)"
   ]
  },
  {
   "cell_type": "code",
   "execution_count": 20,
   "metadata": {},
   "outputs": [
    {
     "name": "stdout",
     "output_type": "stream",
     "text": [
      "0.9484356894553881\n"
     ]
    }
   ],
   "source": [
    "y_pred_XGB = model_XGB.predict(X_test)\n",
    "score = accuracy_score(y_pred_XGB,y_test)\n",
    "print(score)"
   ]
  },
  {
   "cell_type": "code",
   "execution_count": 21,
   "metadata": {},
   "outputs": [
    {
     "data": {
      "text/plain": [
       "'.\\\\XGBoost_8特征01.png'"
      ]
     },
     "execution_count": 21,
     "metadata": {},
     "output_type": "execute_result"
    }
   ],
   "source": [
    "digraph_XGB = xgb.to_graphviz(model_XGB, num_trees=0)    \n",
    "digraph_XGB.format = 'png'\n",
    "digraph_XGB.view('./XGBoost_8特征01')"
   ]
  },
  {
   "cell_type": "code",
   "execution_count": 22,
   "metadata": {},
   "outputs": [
    {
     "name": "stdout",
     "output_type": "stream",
     "text": [
      "          stay      left\n",
      "0     0.989420  0.010580\n",
      "1     0.989237  0.010763\n",
      "2     0.999017  0.000983\n",
      "3     0.055136  0.944864\n",
      "4     0.999000  0.001000\n",
      "...        ...       ...\n",
      "1721  0.997266  0.002734\n",
      "1722  0.983493  0.016507\n",
      "1723  0.999952  0.000048\n",
      "1724  0.999952  0.000048\n",
      "1725  0.999952  0.000048\n",
      "\n",
      "[1726 rows x 2 columns]\n"
     ]
    }
   ],
   "source": [
    "y_pred_proba = model_XGB.predict_proba(X_test)\n",
    "b = pd.DataFrame(y_pred_proba,columns = ['stay','left'])\n",
    "print(b)"
   ]
  },
  {
   "cell_type": "code",
   "execution_count": 23,
   "metadata": {},
   "outputs": [
    {
     "data": {
      "text/plain": [
       "array([[1623,   18],\n",
       "       [  71,   14]], dtype=int64)"
      ]
     },
     "execution_count": 23,
     "metadata": {},
     "output_type": "execute_result"
    }
   ],
   "source": [
    "confusion_matrix(y_test,y_pred_XGB)"
   ]
  },
  {
   "cell_type": "code",
   "execution_count": 24,
   "metadata": {},
   "outputs": [
    {
     "data": {
      "text/html": [
       "<div>\n",
       "<style scoped>\n",
       "    .dataframe tbody tr th:only-of-type {\n",
       "        vertical-align: middle;\n",
       "    }\n",
       "\n",
       "    .dataframe tbody tr th {\n",
       "        vertical-align: top;\n",
       "    }\n",
       "\n",
       "    .dataframe thead th {\n",
       "        text-align: right;\n",
       "    }\n",
       "</style>\n",
       "<table border=\"1\" class=\"dataframe\">\n",
       "  <thead>\n",
       "    <tr style=\"text-align: right;\">\n",
       "      <th></th>\n",
       "      <th>阈值</th>\n",
       "      <th>假正率</th>\n",
       "      <th>真正率</th>\n",
       "    </tr>\n",
       "  </thead>\n",
       "  <tbody>\n",
       "    <tr>\n",
       "      <th>0</th>\n",
       "      <td>1.986281</td>\n",
       "      <td>0.000000</td>\n",
       "      <td>0.000000</td>\n",
       "    </tr>\n",
       "    <tr>\n",
       "      <th>1</th>\n",
       "      <td>0.986281</td>\n",
       "      <td>0.000000</td>\n",
       "      <td>0.011765</td>\n",
       "    </tr>\n",
       "    <tr>\n",
       "      <th>2</th>\n",
       "      <td>0.960539</td>\n",
       "      <td>0.000000</td>\n",
       "      <td>0.035294</td>\n",
       "    </tr>\n",
       "    <tr>\n",
       "      <th>3</th>\n",
       "      <td>0.944864</td>\n",
       "      <td>0.001828</td>\n",
       "      <td>0.058824</td>\n",
       "    </tr>\n",
       "    <tr>\n",
       "      <th>4</th>\n",
       "      <td>0.912166</td>\n",
       "      <td>0.003047</td>\n",
       "      <td>0.058824</td>\n",
       "    </tr>\n",
       "    <tr>\n",
       "      <th>...</th>\n",
       "      <td>...</td>\n",
       "      <td>...</td>\n",
       "      <td>...</td>\n",
       "    </tr>\n",
       "    <tr>\n",
       "      <th>446</th>\n",
       "      <td>0.000021</td>\n",
       "      <td>0.989640</td>\n",
       "      <td>1.000000</td>\n",
       "    </tr>\n",
       "    <tr>\n",
       "      <th>447</th>\n",
       "      <td>0.000016</td>\n",
       "      <td>0.993906</td>\n",
       "      <td>1.000000</td>\n",
       "    </tr>\n",
       "    <tr>\n",
       "      <th>448</th>\n",
       "      <td>0.000015</td>\n",
       "      <td>0.996953</td>\n",
       "      <td>1.000000</td>\n",
       "    </tr>\n",
       "    <tr>\n",
       "      <th>449</th>\n",
       "      <td>0.000013</td>\n",
       "      <td>0.997562</td>\n",
       "      <td>1.000000</td>\n",
       "    </tr>\n",
       "    <tr>\n",
       "      <th>450</th>\n",
       "      <td>0.000013</td>\n",
       "      <td>1.000000</td>\n",
       "      <td>1.000000</td>\n",
       "    </tr>\n",
       "  </tbody>\n",
       "</table>\n",
       "<p>451 rows × 3 columns</p>\n",
       "</div>"
      ],
      "text/plain": [
       "           阈值       假正率       真正率\n",
       "0    1.986281  0.000000  0.000000\n",
       "1    0.986281  0.000000  0.011765\n",
       "2    0.960539  0.000000  0.035294\n",
       "3    0.944864  0.001828  0.058824\n",
       "4    0.912166  0.003047  0.058824\n",
       "..        ...       ...       ...\n",
       "446  0.000021  0.989640  1.000000\n",
       "447  0.000016  0.993906  1.000000\n",
       "448  0.000015  0.996953  1.000000\n",
       "449  0.000013  0.997562  1.000000\n",
       "450  0.000013  1.000000  1.000000\n",
       "\n",
       "[451 rows x 3 columns]"
      ]
     },
     "execution_count": 24,
     "metadata": {},
     "output_type": "execute_result"
    }
   ],
   "source": [
    "fpr,tpr,thres = roc_curve(y_test,y_pred_proba[:,1])\n",
    "a = pd.DataFrame()\n",
    "a['阈值'] = list(thres)\n",
    "a['假正率'] = list(fpr)\n",
    "a['真正率'] = list(tpr)\n",
    "a"
   ]
  },
  {
   "cell_type": "code",
   "execution_count": 25,
   "metadata": {},
   "outputs": [
    {
     "name": "stdout",
     "output_type": "stream",
     "text": [
      "0.8899093092447217\n"
     ]
    }
   ],
   "source": [
    "score1 = roc_auc_score(y_test,y_pred_proba[:,1])\n",
    "print(score1)"
   ]
  },
  {
   "cell_type": "code",
   "execution_count": 26,
   "metadata": {},
   "outputs": [
    {
     "data": {
      "image/png": "[encoded data removed]",
      "text/plain": [
       "<Figure size 432x288 with 1 Axes>"
      ]
     },
     "metadata": {
      "needs_background": "light"
     },
     "output_type": "display_data"
    }
   ],
   "source": [
    "plt.plot(fpr,tpr)\n",
    "plt.title('ROC curve')\n",
    "plt.xlabel('False Positive Rate')\n",
    "plt.ylabel('Ture Positive Rate')\n",
    "plt.show()"
   ]
  },
  {
   "cell_type": "code",
   "execution_count": 27,
   "metadata": {},
   "outputs": [
    {
     "data": {
      "text/html": [
       "<div>\n",
       "<style scoped>\n",
       "    .dataframe tbody tr th:only-of-type {\n",
       "        vertical-align: middle;\n",
       "    }\n",
       "\n",
       "    .dataframe tbody tr th {\n",
       "        vertical-align: top;\n",
       "    }\n",
       "\n",
       "    .dataframe thead th {\n",
       "        text-align: right;\n",
       "    }\n",
       "</style>\n",
       "<table border=\"1\" class=\"dataframe\">\n",
       "  <thead>\n",
       "    <tr style=\"text-align: right;\">\n",
       "      <th></th>\n",
       "      <th>特征名称</th>\n",
       "      <th>特征重要性</th>\n",
       "    </tr>\n",
       "  </thead>\n",
       "  <tbody>\n",
       "    <tr>\n",
       "      <th>5</th>\n",
       "      <td>EPS</td>\n",
       "      <td>0.159634</td>\n",
       "    </tr>\n",
       "    <tr>\n",
       "      <th>6</th>\n",
       "      <td>Debt to Asset Ratio</td>\n",
       "      <td>0.142429</td>\n",
       "    </tr>\n",
       "    <tr>\n",
       "      <th>7</th>\n",
       "      <td>Equity Ratio</td>\n",
       "      <td>0.140780</td>\n",
       "    </tr>\n",
       "    <tr>\n",
       "      <th>0</th>\n",
       "      <td>Current Ratio</td>\n",
       "      <td>0.118241</td>\n",
       "    </tr>\n",
       "    <tr>\n",
       "      <th>2</th>\n",
       "      <td>Total Assets Turnover</td>\n",
       "      <td>0.118086</td>\n",
       "    </tr>\n",
       "    <tr>\n",
       "      <th>3</th>\n",
       "      <td>Fixed Assets Turnover</td>\n",
       "      <td>0.108126</td>\n",
       "    </tr>\n",
       "    <tr>\n",
       "      <th>4</th>\n",
       "      <td>Rate of Return on Total Assets</td>\n",
       "      <td>0.107931</td>\n",
       "    </tr>\n",
       "    <tr>\n",
       "      <th>1</th>\n",
       "      <td>Debt-to-Long Capital Ratio</td>\n",
       "      <td>0.104773</td>\n",
       "    </tr>\n",
       "  </tbody>\n",
       "</table>\n",
       "</div>"
      ],
      "text/plain": [
       "                             特征名称     特征重要性\n",
       "5                             EPS  0.159634\n",
       "6             Debt to Asset Ratio  0.142429\n",
       "7                    Equity Ratio  0.140780\n",
       "0                   Current Ratio  0.118241\n",
       "2           Total Assets Turnover  0.118086\n",
       "3           Fixed Assets Turnover  0.108126\n",
       "4  Rate of Return on Total Assets  0.107931\n",
       "1      Debt-to-Long Capital Ratio  0.104773"
      ]
     },
     "execution_count": 27,
     "metadata": {},
     "output_type": "execute_result"
    }
   ],
   "source": [
    "features_XGB = X_train.columns #获取特征名称\n",
    "importances_XGB = model_XGB.feature_importances_ #获取特征重要性\n",
    "importances_xg_df = pd.DataFrame()\n",
    "importances_xg_df['特征名称'] = features_XGB\n",
    "importances_xg_df['特征重要性'] = importances_XGB\n",
    "importances_xg_df.sort_values('特征重要性',ascending = False).head(10)"
   ]
  },
  {
   "cell_type": "markdown",
   "metadata": {},
   "source": [
    "# 参数调优"
   ]
  },
  {
   "cell_type": "code",
   "execution_count": 34,
   "metadata": {},
   "outputs": [],
   "source": [
    "def trainBestParameter(X_train, y_train,other_params):\n",
    "    cv_params = {'n_estimators': [100,200,300,400,500], \n",
    "                 'max_depth': [3, 4, 5, 6, 7, 8, 9, 10],\n",
    "                 'learning_rate': [0.01, 0.05, 0.07, 0.1, 0.13, 0.15, 0.17,0.2]}  \n",
    "    model = xgb.XGBClassifier(**other_params)\n",
    "    optimized_GBM = GridSearchCV(estimator=model, param_grid=cv_params, scoring='roc_auc', verbose=10, n_jobs=4)\n",
    "    optimized_GBM.fit(X_train, y_train)\n",
    "    other_params['n_estimators'] = optimized_GBM.best_params_['n_estimators']\n",
    "    other_params['max_depth']=optimized_GBM.best_params_['max_depth']\n",
    "    other_params['learning_rate']=optimized_GBM.best_params_['learning_rate']\n",
    "    \n",
    "    return other_params"
   ]
  },
  {
   "cell_type": "code",
   "execution_count": 37,
   "metadata": {},
   "outputs": [
    {
     "name": "stdout",
     "output_type": "stream",
     "text": [
      "Fitting 5 folds for each of 320 candidates, totalling 1600 fits\n"
     ]
    },
    {
     "name": "stderr",
     "output_type": "stream",
     "text": [
      "[Parallel(n_jobs=4)]: Using backend LokyBackend with 4 concurrent workers.\n",
      "[Parallel(n_jobs=4)]: Done   5 tasks      | elapsed:    5.3s\n",
      "[Parallel(n_jobs=4)]: Done  10 tasks      | elapsed:    7.0s\n",
      "[Parallel(n_jobs=4)]: Done  17 tasks      | elapsed:   10.2s\n",
      "[Parallel(n_jobs=4)]: Done  24 tasks      | elapsed:   14.1s\n",
      "[Parallel(n_jobs=4)]: Done  33 tasks      | elapsed:   16.6s\n",
      "[Parallel(n_jobs=4)]: Done  42 tasks      | elapsed:   21.5s\n",
      "[Parallel(n_jobs=4)]: Done  53 tasks      | elapsed:   27.7s\n",
      "[Parallel(n_jobs=4)]: Done  64 tasks      | elapsed:   33.3s\n",
      "[Parallel(n_jobs=4)]: Done  77 tasks      | elapsed:   42.9s\n",
      "[Parallel(n_jobs=4)]: Done  90 tasks      | elapsed:   50.1s\n",
      "[Parallel(n_jobs=4)]: Done 105 tasks      | elapsed:  1.0min\n",
      "[Parallel(n_jobs=4)]: Done 120 tasks      | elapsed:  1.2min\n",
      "[Parallel(n_jobs=4)]: Done 137 tasks      | elapsed:  1.4min\n",
      "[Parallel(n_jobs=4)]: Done 154 tasks      | elapsed:  1.6min\n",
      "[Parallel(n_jobs=4)]: Done 173 tasks      | elapsed:  1.9min\n",
      "[Parallel(n_jobs=4)]: Done 192 tasks      | elapsed:  2.1min\n",
      "[Parallel(n_jobs=4)]: Done 213 tasks      | elapsed:  2.3min\n",
      "[Parallel(n_jobs=4)]: Done 234 tasks      | elapsed:  2.5min\n",
      "[Parallel(n_jobs=4)]: Done 257 tasks      | elapsed:  2.7min\n",
      "[Parallel(n_jobs=4)]: Done 280 tasks      | elapsed:  2.9min\n",
      "[Parallel(n_jobs=4)]: Done 305 tasks      | elapsed:  3.2min\n",
      "[Parallel(n_jobs=4)]: Done 330 tasks      | elapsed:  3.5min\n",
      "[Parallel(n_jobs=4)]: Done 357 tasks      | elapsed:  3.9min\n",
      "[Parallel(n_jobs=4)]: Done 384 tasks      | elapsed:  4.2min\n",
      "[Parallel(n_jobs=4)]: Done 413 tasks      | elapsed:  4.6min\n",
      "[Parallel(n_jobs=4)]: Done 442 tasks      | elapsed:  4.8min\n",
      "[Parallel(n_jobs=4)]: Done 473 tasks      | elapsed:  5.1min\n",
      "[Parallel(n_jobs=4)]: Done 504 tasks      | elapsed:  5.5min\n",
      "[Parallel(n_jobs=4)]: Done 537 tasks      | elapsed:  5.9min\n",
      "[Parallel(n_jobs=4)]: Done 570 tasks      | elapsed:  6.3min\n",
      "[Parallel(n_jobs=4)]: Done 605 tasks      | elapsed:  6.8min\n",
      "[Parallel(n_jobs=4)]: Done 640 tasks      | elapsed:  7.0min\n",
      "[Parallel(n_jobs=4)]: Done 677 tasks      | elapsed:  7.4min\n",
      "[Parallel(n_jobs=4)]: Done 714 tasks      | elapsed:  7.8min\n",
      "[Parallel(n_jobs=4)]: Done 753 tasks      | elapsed:  8.3min\n",
      "[Parallel(n_jobs=4)]: Done 792 tasks      | elapsed:  8.8min\n",
      "[Parallel(n_jobs=4)]: Done 833 tasks      | elapsed:  9.1min\n",
      "[Parallel(n_jobs=4)]: Done 874 tasks      | elapsed:  9.6min\n",
      "[Parallel(n_jobs=4)]: Done 917 tasks      | elapsed: 10.0min\n",
      "[Parallel(n_jobs=4)]: Done 960 tasks      | elapsed: 10.5min\n",
      "[Parallel(n_jobs=4)]: Done 1005 tasks      | elapsed: 11.1min\n",
      "[Parallel(n_jobs=4)]: Done 1050 tasks      | elapsed: 11.5min\n",
      "[Parallel(n_jobs=4)]: Done 1097 tasks      | elapsed: 11.9min\n",
      "[Parallel(n_jobs=4)]: Done 1144 tasks      | elapsed: 12.5min\n",
      "[Parallel(n_jobs=4)]: Done 1193 tasks      | elapsed: 13.1min\n",
      "[Parallel(n_jobs=4)]: Done 1242 tasks      | elapsed: 13.5min\n",
      "[Parallel(n_jobs=4)]: Done 1293 tasks      | elapsed: 14.0min\n",
      "[Parallel(n_jobs=4)]: Done 1344 tasks      | elapsed: 14.6min\n",
      "[Parallel(n_jobs=4)]: Done 1397 tasks      | elapsed: 15.2min\n",
      "[Parallel(n_jobs=4)]: Done 1450 tasks      | elapsed: 15.6min\n",
      "[Parallel(n_jobs=4)]: Done 1505 tasks      | elapsed: 16.2min\n",
      "[Parallel(n_jobs=4)]: Done 1560 tasks      | elapsed: 16.8min\n",
      "[Parallel(n_jobs=4)]: Done 1600 out of 1600 | elapsed: 17.4min finished\n"
     ]
    }
   ],
   "source": [
    "other_params = {'learning_rate': 0.01, 'n_estimators': 100, 'max_depth': 3, \n",
    "                'min_child_weight': 5, 'seed': 0, 'subsample': 0.7, \n",
    "                'colsample_bytree': 0.7, 'gamma': 0.1, 'reg_alpha': 1, \n",
    "                'reg_lambda': 1, 'eval_metric':['logloss','auc','error'], \n",
    "                'use_label_encoder':False}\n",
    "best_params = trainBestParameter(X_train, y_train, other_params)#参数调优"
   ]
  },
  {
   "cell_type": "code",
   "execution_count": 38,
   "metadata": {},
   "outputs": [
    {
     "name": "stdout",
     "output_type": "stream",
     "text": [
      "{'learning_rate': 0.1, 'n_estimators': 100, 'max_depth': 7, 'min_child_weight': 5, 'seed': 0, 'subsample': 0.7, 'colsample_bytree': 0.7, 'gamma': 0.1, 'reg_alpha': 1, 'reg_lambda': 1, 'eval_metric': ['logloss', 'auc', 'error'], 'use_label_encoder': False}\n"
     ]
    }
   ],
   "source": [
    "print(best_params)"
   ]
  },
  {
   "cell_type": "code",
   "execution_count": 39,
   "metadata": {},
   "outputs": [
    {
     "data": {
      "text/plain": [
       "XGBClassifier(base_score=0.5, booster='gbtree', colsample_bylevel=1,\n",
       "              colsample_bynode=1, colsample_bytree=0.7,\n",
       "              enable_categorical=False, eval_metric=['logloss', 'auc', 'error'],\n",
       "              gamma=0.1, gpu_id=-1, importance_type=None,\n",
       "              interaction_constraints='', learning_rate=0.1, max_delta_step=0,\n",
       "              max_depth=7, min_child_weight=5, missing=nan,\n",
       "              monotone_constraints='()', n_estimators=100, n_jobs=4,\n",
       "              num_parallel_tree=1, predictor='auto', random_state=0,\n",
       "              reg_alpha=1, reg_lambda=1, scale_pos_weight=1, seed=0,\n",
       "              subsample=0.7, tree_method='exact', use_label_encoder=False,\n",
       "              validate_parameters=1, ...)"
      ]
     },
     "execution_count": 39,
     "metadata": {},
     "output_type": "execute_result"
    }
   ],
   "source": [
    "model_best = xgb.XGBClassifier(**best_params)    \n",
    "model_best.fit(X_train, y_train)"
   ]
  },
  {
   "cell_type": "code",
   "execution_count": 40,
   "metadata": {},
   "outputs": [
    {
     "name": "stdout",
     "output_type": "stream",
     "text": [
      "score_XGBoost: 0.9466975666280417\n"
     ]
    }
   ],
   "source": [
    "y_pred = model_best.predict(X_test)\n",
    "score_XGBoost = accuracy_score(y_pred,y_test)\n",
    "print('score_XGBoost:', score_XGBoost)"
   ]
  },
  {
   "cell_type": "code",
   "execution_count": 33,
   "metadata": {},
   "outputs": [],
   "source": [
    "y_pred_proba = model_best.predict_proba(X_test)\n",
    "y_pred_proba[:,1]\n",
    "fpr1,tpr1,thre1 = roc_curve(y_test,y_pred_proba[:,1])"
   ]
  },
  {
   "cell_type": "code",
   "execution_count": 34,
   "metadata": {},
   "outputs": [
    {
     "data": {
      "image/png": "[encoded data removed]",
      "text/plain": [
       "<Figure size 432x288 with 1 Axes>"
      ]
     },
     "metadata": {
      "needs_background": "light"
     },
     "output_type": "display_data"
    }
   ],
   "source": [
    "plt.plot(fpr,tpr)\n",
    "plt.plot(fpr1,tpr1,linestyle = '--')\n",
    "plt.title('ROC curve')\n",
    "plt.legend(['original','adjusted'])\n",
    "plt.xlabel('False Positive Rate')\n",
    "plt.ylabel('Ture Positive Rate')\n",
    "plt.show()"
   ]
  },
  {
   "cell_type": "code",
   "execution_count": 35,
   "metadata": {},
   "outputs": [
    {
     "data": {
      "text/plain": [
       "'.\\\\XGBoost_best.png'"
      ]
     },
     "execution_count": 35,
     "metadata": {},
     "output_type": "execute_result"
    }
   ],
   "source": [
    "digraph_best = xgb.to_graphviz(model_best, num_trees=0)    \n",
    "digraph_best.format = 'png'\n",
    "digraph_best.view('./XGBoost_best')"
   ]
  }
 ],
 "metadata": {
  "kernelspec": {
   "display_name": "Python 3",
   "language": "python",
   "name": "python3"
  },
  "language_info": {
   "codemirror_mode": {
    "name": "ipython",
    "version": 3
   },
   "file_extension": ".py",
   "mimetype": "text/x-python",
   "name": "python",
   "nbconvert_exporter": "python",
   "pygments_lexer": "ipython3",
   "version": "3.7.0"
  }
 },
 "nbformat": 4,
 "nbformat_minor": 4
}
